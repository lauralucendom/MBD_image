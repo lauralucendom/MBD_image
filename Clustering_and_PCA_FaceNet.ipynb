{
 "cells": [
  {
   "cell_type": "markdown",
   "metadata": {},
   "source": [
    "## Clustering for the facenet model"
   ]
  },
  {
   "cell_type": "code",
   "execution_count": 1,
   "metadata": {},
   "outputs": [
    {
     "name": "stderr",
     "output_type": "stream",
     "text": [
      "Using TensorFlow backend.\n"
     ]
    }
   ],
   "source": [
    "from numpy import expand_dims\n",
    "from keras.preprocessing.image import ImageDataGenerator\n",
    "from keras.preprocessing import image\n",
    "from keras.models import Model, Sequential\n",
    "from keras.layers import Conv2D, MaxPooling2D, BatchNormalization, GlobalAveragePooling2D\n",
    "from keras.layers import Activation, Dropout, Flatten, Dense\n",
    "from keras.optimizers import RMSprop, SGD\n",
    "from keras import backend as K\n",
    "import os\n",
    "import keras\n",
    "import tensorflow as tf\n",
    "from PIL import Image\n",
    "import numpy as np\n",
    "import mtcnn\n",
    "from mtcnn.mtcnn import MTCNN"
   ]
  },
  {
   "cell_type": "code",
   "execution_count": 2,
   "metadata": {},
   "outputs": [
    {
     "name": "stdout",
     "output_type": "stream",
     "text": [
      "0.1.0\n"
     ]
    }
   ],
   "source": [
    "print(mtcnn.__version__)"
   ]
  },
  {
   "cell_type": "code",
   "execution_count": 3,
   "metadata": {},
   "outputs": [],
   "source": [
    "# get the face embedding for one face\n",
    "def get_embedding(model, face_pixels):\n",
    "    # scale pixel values\n",
    "    face_pixels = face_pixels.astype('float32')\n",
    "    # standardize pixel values across channels (global)\n",
    "    mean, std = face_pixels.mean(), face_pixels.std()\n",
    "    face_pixels = (face_pixels - mean) / std\n",
    "    # transform face into one sample\n",
    "    samples = expand_dims(face_pixels, axis=0)\n",
    "    # make prediction to get embedding\n",
    "    yhat = model.predict(samples)\n",
    "    return yhat[0]"
   ]
  },
  {
   "cell_type": "code",
   "execution_count": 4,
   "metadata": {},
   "outputs": [
    {
     "name": "stdout",
     "output_type": "stream",
     "text": [
      "['model_dropout02_Results.png', '.DS_Store', 'facenet_model.json', 'archive', 'ImageGenerator&CNN_2.ipynb', 'model_dropout_02.h5', 'Which Celebrity Are You? Face recognition using Deep Learning | by Ewoud | Towards Data Science.webarchive', 'celebrities_weights_dropout_05.h5', 'OpenCV Face Recognition - PyImageSearch.webarchive', 'ImageGenerator&CNN.ipynb', 'celebrities_weights_dropout_02.h5', 'model_dropout_05.h5', 'Clustering_and_PCA.ipynb', '.ipynb_checkpoints', 'model_dropout05_Results.png']\n"
     ]
    }
   ],
   "source": [
    "cwd = os.getcwd()\n",
    "print(os.listdir(cwd))"
   ]
  },
  {
   "cell_type": "code",
   "execution_count": 5,
   "metadata": {},
   "outputs": [
    {
     "name": "stdout",
     "output_type": "stream",
     "text": [
      "TensorFlow: 1.14.0\n"
     ]
    }
   ],
   "source": [
    "print(\"TensorFlow:\", tf.__version__)\n"
   ]
  },
  {
   "cell_type": "code",
   "execution_count": 6,
   "metadata": {},
   "outputs": [],
   "source": [
    "def load_face(dir):\n",
    "    faces = list()\n",
    "    # enumerate files\n",
    "    for filename in os.listdir(dir):\n",
    "        path = dir + filename\n",
    "        face = extract_face(path)\n",
    "        faces.append(face)\n",
    "    return faces"
   ]
  },
  {
   "cell_type": "code",
   "execution_count": 7,
   "metadata": {},
   "outputs": [],
   "source": [
    "def load_dataset(dir):\n",
    "    # list for faces and labels\n",
    "    X, y = list(), list()\n",
    "    for subdir in os.listdir(dir):\n",
    "        path = dir + subdir + '/'\n",
    "        faces = load_face(path)\n",
    "        labels = [subdir for i in range(len(faces))]\n",
    "        print(\"loaded %d sample for class: %s\" % (len(faces),subdir) ) # print progress\n",
    "        X.extend(faces)\n",
    "        y.extend(labels)\n",
    "    return np.asarray(X), np.asarray(y)"
   ]
  },
  {
   "cell_type": "code",
   "execution_count": 8,
   "metadata": {},
   "outputs": [],
   "source": [
    "def extract_face(filename, required_size=(160, 160)):\n",
    "    # load image from file\n",
    "    image = Image.open(filename)\n",
    "    # convert to RGB, if needed\n",
    "    image = image.convert('RGB')\n",
    "    # convert to array\n",
    "    pixels = np.asarray(image)\n",
    "    # create the detector, using default weights\n",
    "    detector = MTCNN()\n",
    "    # detect faces in the image\n",
    "    results = detector.detect_faces(pixels)\n",
    "    # extract the bounding box from the first face\n",
    "    x1, y1, width, height = results[0]['box']\n",
    "    # deal with negative pixel index\n",
    "    x1, y1 = abs(x1), abs(y1)\n",
    "    x2, y2 = x1 + width, y1 + height\n",
    "    # extract the face\n",
    "    face = pixels[y1:y2, x1:x2]\n",
    "    # resize pixels to the model size\n",
    "    image = Image.fromarray(face)\n",
    "    image = image.resize(required_size)\n",
    "    face_array = np.asarray(image)\n",
    "    return face_array"
   ]
  },
  {
   "cell_type": "code",
   "execution_count": 9,
   "metadata": {},
   "outputs": [],
   "source": [
    "train_data_dir=os.path.join(cwd, 'archive/data/train/')\n",
    "validation_data_dir=os.path.join(cwd,'archive/data/val/')"
   ]
  },
  {
   "cell_type": "code",
   "execution_count": 10,
   "metadata": {},
   "outputs": [
    {
     "name": "stdout",
     "output_type": "stream",
     "text": [
      "WARNING:tensorflow:From /opt/anaconda3/envs/myenvNE/lib/python3.6/site-packages/keras/backend/tensorflow_backend.py:74: The name tf.get_default_graph is deprecated. Please use tf.compat.v1.get_default_graph instead.\n",
      "\n",
      "WARNING:tensorflow:From /opt/anaconda3/envs/myenvNE/lib/python3.6/site-packages/keras/backend/tensorflow_backend.py:517: The name tf.placeholder is deprecated. Please use tf.compat.v1.placeholder instead.\n",
      "\n",
      "WARNING:tensorflow:From /opt/anaconda3/envs/myenvNE/lib/python3.6/site-packages/keras/backend/tensorflow_backend.py:4138: The name tf.random_uniform is deprecated. Please use tf.random.uniform instead.\n",
      "\n",
      "WARNING:tensorflow:From /opt/anaconda3/envs/myenvNE/lib/python3.6/site-packages/keras/backend/tensorflow_backend.py:3976: The name tf.nn.max_pool is deprecated. Please use tf.nn.max_pool2d instead.\n",
      "\n",
      "WARNING:tensorflow:From /opt/anaconda3/envs/myenvNE/lib/python3.6/site-packages/keras/backend/tensorflow_backend.py:174: The name tf.get_default_session is deprecated. Please use tf.compat.v1.get_default_session instead.\n",
      "\n",
      "WARNING:tensorflow:From /opt/anaconda3/envs/myenvNE/lib/python3.6/site-packages/keras/backend/tensorflow_backend.py:181: The name tf.ConfigProto is deprecated. Please use tf.compat.v1.ConfigProto instead.\n",
      "\n",
      "loaded 14 sample for class: ben_afflek\n",
      "loaded 13 sample for class: barack_obama\n",
      "loaded 17 sample for class: dwayne_johnson\n",
      "loaded 19 sample for class: madonna\n",
      "loaded 17 sample for class: elton_john\n",
      "loaded 22 sample for class: mindy_kaling\n",
      "loaded 21 sample for class: jerry_seinfeld\n"
     ]
    }
   ],
   "source": [
    "# load train dataset\n",
    "trainX, trainy = load_dataset(train_data_dir)"
   ]
  },
  {
   "cell_type": "code",
   "execution_count": 32,
   "metadata": {},
   "outputs": [
    {
     "name": "stdout",
     "output_type": "stream",
     "text": [
      "(123, 160, 160, 3) (123,)\n"
     ]
    }
   ],
   "source": [
    "print(trainX.shape, trainy.shape)"
   ]
  },
  {
   "cell_type": "code",
   "execution_count": 18,
   "metadata": {},
   "outputs": [
    {
     "name": "stdout",
     "output_type": "stream",
     "text": [
      "loaded 5 sample for class: ben_afflek\n",
      "loaded 5 sample for class: barack_obama\n",
      "loaded 5 sample for class: dwayne_johnson\n",
      "loaded 5 sample for class: madonna\n",
      "loaded 5 sample for class: elton_john\n",
      "loaded 5 sample for class: mindy_kaling\n",
      "loaded 5 sample for class: jerry_seinfeld\n"
     ]
    }
   ],
   "source": [
    "# load test dataset\n",
    "testX, testy = load_dataset(validation_data_dir)"
   ]
  },
  {
   "cell_type": "code",
   "execution_count": 37,
   "metadata": {
    "scrolled": true
   },
   "outputs": [
    {
     "name": "stdout",
     "output_type": "stream",
     "text": [
      "(35, 160, 160, 3) (35,)\n"
     ]
    }
   ],
   "source": [
    "print(testX.shape, testy.shape)"
   ]
  },
  {
   "cell_type": "code",
   "execution_count": 38,
   "metadata": {},
   "outputs": [
    {
     "name": "stdout",
     "output_type": "stream",
     "text": [
      "Loaded Model\n",
      "[<tf.Tensor 'input_1_3:0' shape=(?, 160, 160, 3) dtype=float32>]\n",
      "[<tf.Tensor 'Bottleneck_BatchNorm_2/cond/Merge:0' shape=(?, 128) dtype=float32>]\n"
     ]
    },
    {
     "name": "stderr",
     "output_type": "stream",
     "text": [
      "/opt/anaconda3/envs/myenvNE/lib/python3.6/site-packages/keras/engine/saving.py:292: UserWarning: No training configuration found in save file: the model was *not* compiled. Compile it manually.\n",
      "  warnings.warn('No training configuration found in save file: '\n"
     ]
    }
   ],
   "source": [
    "from keras.models import load_model\n",
    "model = load_model(\"facenet_keras.h5\")\n",
    "print('Loaded Model')\n",
    "print(model.inputs)\n",
    "print(model.outputs)"
   ]
  },
  {
   "cell_type": "code",
   "execution_count": 39,
   "metadata": {},
   "outputs": [
    {
     "name": "stdout",
     "output_type": "stream",
     "text": [
      "(123, 128)\n",
      "(35, 128)\n"
     ]
    }
   ],
   "source": [
    "# convert each face in the train set to an embedding\n",
    "newTrainX = list()\n",
    "for face_pixels in trainX:\n",
    "    embedding = get_embedding(model, face_pixels)\n",
    "    newTrainX.append(embedding)\n",
    "newTrainX = np.asarray(newTrainX)\n",
    "print(newTrainX.shape)\n",
    "# convert each face in the test set to an embedding\n",
    "newTestX = list()\n",
    "for face_pixels in testX:\n",
    "    embedding = get_embedding(model, face_pixels)\n",
    "    newTestX.append(embedding)\n",
    "newTestX = np.asarray(newTestX)\n",
    "print(newTestX.shape)"
   ]
  },
  {
   "cell_type": "code",
   "execution_count": 40,
   "metadata": {},
   "outputs": [
    {
     "data": {
      "text/html": [
       "<div>\n",
       "<style scoped>\n",
       "    .dataframe tbody tr th:only-of-type {\n",
       "        vertical-align: middle;\n",
       "    }\n",
       "\n",
       "    .dataframe tbody tr th {\n",
       "        vertical-align: top;\n",
       "    }\n",
       "\n",
       "    .dataframe thead th {\n",
       "        text-align: right;\n",
       "    }\n",
       "</style>\n",
       "<table border=\"1\" class=\"dataframe\">\n",
       "  <thead>\n",
       "    <tr style=\"text-align: right;\">\n",
       "      <th></th>\n",
       "      <th>0</th>\n",
       "      <th>1</th>\n",
       "      <th>2</th>\n",
       "      <th>3</th>\n",
       "      <th>4</th>\n",
       "      <th>5</th>\n",
       "      <th>6</th>\n",
       "      <th>7</th>\n",
       "      <th>8</th>\n",
       "      <th>9</th>\n",
       "      <th>...</th>\n",
       "      <th>119</th>\n",
       "      <th>120</th>\n",
       "      <th>121</th>\n",
       "      <th>122</th>\n",
       "      <th>123</th>\n",
       "      <th>124</th>\n",
       "      <th>125</th>\n",
       "      <th>126</th>\n",
       "      <th>127</th>\n",
       "      <th>target</th>\n",
       "    </tr>\n",
       "  </thead>\n",
       "  <tbody>\n",
       "    <tr>\n",
       "      <th>0</th>\n",
       "      <td>0.249091</td>\n",
       "      <td>1.202946</td>\n",
       "      <td>-1.193330</td>\n",
       "      <td>-1.288209</td>\n",
       "      <td>1.230718</td>\n",
       "      <td>-0.189590</td>\n",
       "      <td>0.436323</td>\n",
       "      <td>-0.794231</td>\n",
       "      <td>-0.900322</td>\n",
       "      <td>0.472156</td>\n",
       "      <td>...</td>\n",
       "      <td>2.415859</td>\n",
       "      <td>-0.582321</td>\n",
       "      <td>1.486334</td>\n",
       "      <td>-0.074953</td>\n",
       "      <td>0.914318</td>\n",
       "      <td>0.467139</td>\n",
       "      <td>-0.324854</td>\n",
       "      <td>-0.705317</td>\n",
       "      <td>1.519215</td>\n",
       "      <td>ben_afflek</td>\n",
       "    </tr>\n",
       "    <tr>\n",
       "      <th>1</th>\n",
       "      <td>-0.934170</td>\n",
       "      <td>-2.218531</td>\n",
       "      <td>-0.408621</td>\n",
       "      <td>-0.386465</td>\n",
       "      <td>-0.256873</td>\n",
       "      <td>-0.542948</td>\n",
       "      <td>0.491935</td>\n",
       "      <td>0.900498</td>\n",
       "      <td>1.696490</td>\n",
       "      <td>-0.025144</td>\n",
       "      <td>...</td>\n",
       "      <td>0.165389</td>\n",
       "      <td>1.691913</td>\n",
       "      <td>1.036215</td>\n",
       "      <td>-1.415489</td>\n",
       "      <td>1.268069</td>\n",
       "      <td>0.547112</td>\n",
       "      <td>-0.607763</td>\n",
       "      <td>-0.442504</td>\n",
       "      <td>0.137921</td>\n",
       "      <td>ben_afflek</td>\n",
       "    </tr>\n",
       "    <tr>\n",
       "      <th>2</th>\n",
       "      <td>-0.458472</td>\n",
       "      <td>0.302673</td>\n",
       "      <td>-0.412135</td>\n",
       "      <td>-1.540325</td>\n",
       "      <td>-0.388415</td>\n",
       "      <td>-0.533909</td>\n",
       "      <td>0.977059</td>\n",
       "      <td>-0.707151</td>\n",
       "      <td>0.351109</td>\n",
       "      <td>-1.433302</td>\n",
       "      <td>...</td>\n",
       "      <td>0.988025</td>\n",
       "      <td>1.398423</td>\n",
       "      <td>1.037622</td>\n",
       "      <td>-0.841477</td>\n",
       "      <td>0.030433</td>\n",
       "      <td>0.522090</td>\n",
       "      <td>-0.793260</td>\n",
       "      <td>-0.983044</td>\n",
       "      <td>1.234646</td>\n",
       "      <td>ben_afflek</td>\n",
       "    </tr>\n",
       "    <tr>\n",
       "      <th>3</th>\n",
       "      <td>-0.224144</td>\n",
       "      <td>-0.224607</td>\n",
       "      <td>-1.838206</td>\n",
       "      <td>-0.166787</td>\n",
       "      <td>0.488656</td>\n",
       "      <td>-0.168291</td>\n",
       "      <td>0.291072</td>\n",
       "      <td>0.135095</td>\n",
       "      <td>0.341111</td>\n",
       "      <td>-0.246872</td>\n",
       "      <td>...</td>\n",
       "      <td>0.679716</td>\n",
       "      <td>-0.003414</td>\n",
       "      <td>2.786707</td>\n",
       "      <td>-0.772608</td>\n",
       "      <td>0.622760</td>\n",
       "      <td>0.209536</td>\n",
       "      <td>0.509771</td>\n",
       "      <td>-1.381530</td>\n",
       "      <td>1.561655</td>\n",
       "      <td>ben_afflek</td>\n",
       "    </tr>\n",
       "    <tr>\n",
       "      <th>4</th>\n",
       "      <td>-0.397685</td>\n",
       "      <td>0.384144</td>\n",
       "      <td>1.071991</td>\n",
       "      <td>-1.069967</td>\n",
       "      <td>0.321811</td>\n",
       "      <td>-1.344977</td>\n",
       "      <td>1.741676</td>\n",
       "      <td>-1.458665</td>\n",
       "      <td>0.130908</td>\n",
       "      <td>-1.263643</td>\n",
       "      <td>...</td>\n",
       "      <td>1.586953</td>\n",
       "      <td>0.268172</td>\n",
       "      <td>1.344829</td>\n",
       "      <td>-0.928811</td>\n",
       "      <td>-0.722272</td>\n",
       "      <td>1.057078</td>\n",
       "      <td>-0.429599</td>\n",
       "      <td>-1.161351</td>\n",
       "      <td>1.078990</td>\n",
       "      <td>ben_afflek</td>\n",
       "    </tr>\n",
       "  </tbody>\n",
       "</table>\n",
       "<p>5 rows × 129 columns</p>\n",
       "</div>"
      ],
      "text/plain": [
       "          0         1         2         3         4         5         6  \\\n",
       "0  0.249091  1.202946 -1.193330 -1.288209  1.230718 -0.189590  0.436323   \n",
       "1 -0.934170 -2.218531 -0.408621 -0.386465 -0.256873 -0.542948  0.491935   \n",
       "2 -0.458472  0.302673 -0.412135 -1.540325 -0.388415 -0.533909  0.977059   \n",
       "3 -0.224144 -0.224607 -1.838206 -0.166787  0.488656 -0.168291  0.291072   \n",
       "4 -0.397685  0.384144  1.071991 -1.069967  0.321811 -1.344977  1.741676   \n",
       "\n",
       "          7         8         9  ...       119       120       121       122  \\\n",
       "0 -0.794231 -0.900322  0.472156  ...  2.415859 -0.582321  1.486334 -0.074953   \n",
       "1  0.900498  1.696490 -0.025144  ...  0.165389  1.691913  1.036215 -1.415489   \n",
       "2 -0.707151  0.351109 -1.433302  ...  0.988025  1.398423  1.037622 -0.841477   \n",
       "3  0.135095  0.341111 -0.246872  ...  0.679716 -0.003414  2.786707 -0.772608   \n",
       "4 -1.458665  0.130908 -1.263643  ...  1.586953  0.268172  1.344829 -0.928811   \n",
       "\n",
       "        123       124       125       126       127      target  \n",
       "0  0.914318  0.467139 -0.324854 -0.705317  1.519215  ben_afflek  \n",
       "1  1.268069  0.547112 -0.607763 -0.442504  0.137921  ben_afflek  \n",
       "2  0.030433  0.522090 -0.793260 -0.983044  1.234646  ben_afflek  \n",
       "3  0.622760  0.209536  0.509771 -1.381530  1.561655  ben_afflek  \n",
       "4 -0.722272  1.057078 -0.429599 -1.161351  1.078990  ben_afflek  \n",
       "\n",
       "[5 rows x 129 columns]"
      ]
     },
     "execution_count": 40,
     "metadata": {},
     "output_type": "execute_result"
    }
   ],
   "source": [
    "import pandas as pd\n",
    "df = pd.DataFrame(newTrainX)\n",
    "df[\"target\"] = trainy\n",
    "df.head()"
   ]
  },
  {
   "cell_type": "code",
   "execution_count": 41,
   "metadata": {},
   "outputs": [
    {
     "name": "stdout",
     "output_type": "stream",
     "text": [
      "(123, 2)\n"
     ]
    },
    {
     "data": {
      "text/plain": [
       "<matplotlib.axes._subplots.AxesSubplot at 0x7fc62090b160>"
      ]
     },
     "execution_count": 41,
     "metadata": {},
     "output_type": "execute_result"
    },
    {
     "data": {
      "image/png": "[encoded data removed]",
      "text/plain": [
       "<Figure size 1152x432 with 1 Axes>"
      ]
     },
     "metadata": {
      "needs_background": "light"
     },
     "output_type": "display_data"
    }
   ],
   "source": [
    "import seaborn as sns\n",
    "from sklearn.decomposition import PCA\n",
    "from matplotlib import pyplot as plt\n",
    "# Create a PCA instance:\n",
    "pca = PCA(n_components=2) \n",
    "# Fit pca to 'X'\n",
    "pca_features = pca.fit_transform(newTrainX)\n",
    "print (pca_features.shape)\n",
    "\n",
    "df_plot = pd.DataFrame(pca_features)\n",
    "df_plot[\"target\"] = trainy\n",
    "\n",
    "plt.figure(figsize=(16, 6))\n",
    "sns.scatterplot(x=df_plot[0] , y= df_plot[1], data = df_plot,  hue = \"target\" )"
   ]
  },
  {
   "cell_type": "markdown",
   "metadata": {},
   "source": [
    "## Clustering for the model_dropout_05"
   ]
  },
  {
   "cell_type": "code",
   "execution_count": null,
   "metadata": {},
   "outputs": [],
   "source": []
  }
 ],
 "metadata": {
  "kernelspec": {
   "display_name": "myenvNE",
   "language": "python",
   "name": "myenvne"
  },
  "language_info": {
   "codemirror_mode": {
    "name": "ipython",
    "version": 3
   },
   "file_extension": ".py",
   "mimetype": "text/x-python",
   "name": "python",
   "nbconvert_exporter": "python",
   "pygments_lexer": "ipython3",
   "version": "3.6.13"
  }
 },
 "nbformat": 4,
 "nbformat_minor": 4
}
